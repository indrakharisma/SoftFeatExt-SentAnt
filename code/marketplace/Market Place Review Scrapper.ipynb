{
 "cells": [
  {
   "cell_type": "code",
   "execution_count": null,
   "metadata": {},
   "outputs": [],
   "source": [
    "from google_play_scraper import Sort, reviews_all, reviews\n",
    "from google_play_scraper import app\n",
    "import sys\n",
    "import json\n",
    "import pandas as pd\n",
    "import spacy\n",
    "from textblob import TextBlob\n",
    "from textblob import Word\n",
    "import en_core_web_md\n",
    "import re"
   ]
  },
  {
   "cell_type": "markdown",
   "metadata": {},
   "source": [
    "AMAZON"
   ]
  },
  {
   "cell_type": "code",
   "execution_count": null,
   "metadata": {},
   "outputs": [],
   "source": [
    "result1, continuation_token = reviews(\n",
    "    'com.amazon.mShop.android.shopping',\n",
    "    lang='en', # defaults to 'en'\n",
    "    country='us', # defaults to 'us'\n",
    "    sort=Sort.MOST_RELEVANT, # defaults to Sort.MOST_RELEVANT\n",
    "    count=1000, # defaults to 100\n",
    "    filter_score_with=None # defaults to None(means all score)\n",
    ")\n",
    "x=json.dumps(result1, indent=4, sort_keys=True, default=str)\n",
    "with open('1.Amazon-JSON.txt', 'w', encoding='utf-8') as f:\n",
    "    f.write(x)\n",
    "my_json = x\n",
    "\n",
    "print(my_json)\n",
    "\n",
    "data = json.loads(my_json)\n",
    "#ambil atribut content aja\n",
    "txtReview = [data['content'] for data in data]\n",
    "\n",
    "#convert JSON ke String\n",
    "stringReview = \".\\n\".join(filter(None, txtReview))\n",
    "print(stringReview)\n",
    "\n",
    "with open('1-Ulasan-Aplikasi-Amazon.txt', 'w', encoding='utf-8') as f:\n",
    "    f.write(stringReview)\n",
    "    \n"
   ]
  },
  {
   "cell_type": "markdown",
   "metadata": {},
   "source": [
    "EBAY"
   ]
  },
  {
   "cell_type": "code",
   "execution_count": null,
   "metadata": {
    "scrolled": true
   },
   "outputs": [],
   "source": [
    "result1, continuation_token = reviews(\n",
    "    'com.ebay.mobile',\n",
    "    lang='en', # defaults to 'en'\n",
    "    country='us', # defaults to 'us'\n",
    "    sort=Sort.MOST_RELEVANT, # defaults to Sort.MOST_RELEVANT\n",
    "    count=1000, # defaults to 100\n",
    "    filter_score_with=None # defaults to None(means all score)\n",
    ")\n",
    "x=json.dumps(result1, indent=4, sort_keys=True, default=str)\n",
    "with open('2.Ebay-JSON.txt', 'w', encoding='utf-8') as f:\n",
    "    f.write(x)\n",
    "#print(x)\n",
    "my_json = x\n",
    "\n",
    "\n",
    "print(my_json)\n",
    "\n",
    "data = json.loads(my_json)\n",
    "#ambil atribut content aja\n",
    "txtReview = [data['content'] for data in data]\n",
    "\n",
    "#convert JSON ke String\n",
    "stringReview = \".\\n\".join(filter(None, txtReview))\n",
    "print(stringReview)\n",
    "\n",
    "with open('2-Ulasan-Aplikasi-Ebay.txt', 'w', encoding='utf-8') as f:\n",
    "    f.write(stringReview)"
   ]
  },
  {
   "cell_type": "markdown",
   "metadata": {},
   "source": [
    "SHOPEE"
   ]
  },
  {
   "cell_type": "code",
   "execution_count": null,
   "metadata": {},
   "outputs": [],
   "source": [
    "result1, continuation_token = reviews(\n",
    "    'com.shopee.id',\n",
    "    lang='en', # defaults to 'en'\n",
    "    country='us', # defaults to 'us'\n",
    "    sort=Sort.MOST_RELEVANT, # defaults to Sort.MOST_RELEVANT\n",
    "    count=1000, # defaults to 100\n",
    "    filter_score_with=None # defaults to None(means all score)\n",
    ")\n",
    "my_json=json.dumps(result1, indent=4, sort_keys=True, default=str)\n",
    "with open('3.Shopee-JSON.txt', 'w', encoding='utf-8') as f:\n",
    "    f.write(my_json)\n",
    "print(my_json)\n",
    "\n",
    "data = json.loads(my_json)\n",
    "#ambil atribut content aja\n",
    "txtReview = [data['content'] for data in data]\n",
    "\n",
    "#convert JSON ke String\n",
    "stringReview = \".\\n\".join(filter(None, txtReview))\n",
    "print(stringReview)\n",
    "\n",
    "with open('3-Ulasan-Aplikasi-Shopee.txt', 'w', encoding='utf-8') as f:\n",
    "    f.write(stringReview)"
   ]
  },
  {
   "cell_type": "markdown",
   "metadata": {},
   "source": [
    "LAZADA"
   ]
  },
  {
   "cell_type": "code",
   "execution_count": null,
   "metadata": {},
   "outputs": [],
   "source": [
    "result1, continuation_token = reviews(\n",
    "    'com.lazada.android',\n",
    "    lang='en', # defaults to 'en'\n",
    "    country='us', # defaults to 'us'\n",
    "    sort=Sort.MOST_RELEVANT, # defaults to Sort.MOST_RELEVANT\n",
    "    count=1000, # defaults to 100\n",
    "    filter_score_with=None # defaults to None(means all score)\n",
    ")\n",
    "my_json=json.dumps(result1, indent=4, sort_keys=True, default=str)\n",
    "with open('4.Lazada-JSON.txt', 'w', encoding='utf-8') as f:\n",
    "    f.write(my_json)\n",
    "print(my_json)\n",
    "\n",
    "data = json.loads(my_json)\n",
    "#ambil atribut content aja\n",
    "txtReview = [data['content'] for data in data]\n",
    "\n",
    "#convert JSON ke String\n",
    "stringReview = \".\\n\".join(filter(None, txtReview))\n",
    "print(stringReview)\n",
    "\n",
    "with open('4-Ulasan-Aplikasi-Lazada.txt', 'w', encoding='utf-8') as f:\n",
    "    f.write(stringReview)"
   ]
  },
  {
   "cell_type": "markdown",
   "metadata": {},
   "source": [
    "ALIEXPRESS"
   ]
  },
  {
   "cell_type": "code",
   "execution_count": null,
   "metadata": {},
   "outputs": [],
   "source": [
    "result1, continuation_token = reviews(\n",
    "    'com.alibaba.aliexpresshd',\n",
    "    lang='en', # defaults to 'en'\n",
    "    country='us', # defaults to 'us'\n",
    "    sort=Sort.MOST_RELEVANT, # defaults to Sort.MOST_RELEVANT\n",
    "    count=1000, # defaults to 100\n",
    "    filter_score_with=None # defaults to None(means all score)\n",
    ")\n",
    "my_json=json.dumps(result1, indent=4, sort_keys=True, default=str)\n",
    "with open('5.AliExpress-JSON.txt', 'w', encoding='utf-8') as f:\n",
    "    f.write(my_json)\n",
    "print(my_json)\n",
    "\n",
    "data = json.loads(my_json)\n",
    "#ambil atribut content aja\n",
    "txtReview = [data['content'] for data in data]\n",
    "\n",
    "#convert JSON ke String\n",
    "stringReview = \".\\n\".join(filter(None, txtReview))\n",
    "print(stringReview)\n",
    "\n",
    "with open('5-Ulasan-Aplikasi-AliExpress.txt', 'w', encoding='utf-8') as f:\n",
    "    f.write(stringReview)"
   ]
  },
  {
   "cell_type": "markdown",
   "metadata": {},
   "source": [
    "ZALORA"
   ]
  },
  {
   "cell_type": "code",
   "execution_count": null,
   "metadata": {},
   "outputs": [],
   "source": [
    "result1, continuation_token = reviews(\n",
    "    'com.zalora.android',\n",
    "    lang='en', # defaults to 'en'\n",
    "    country='us', # defaults to 'us'\n",
    "    sort=Sort.MOST_RELEVANT, # defaults to Sort.MOST_RELEVANT\n",
    "    count=1000, # defaults to 100\n",
    "    filter_score_with=None # defaults to None(means all score)\n",
    ")\n",
    "my_json=json.dumps(result1, indent=4, sort_keys=True, default=str)\n",
    "with open('6.Zalora-JSON.txt', 'w', encoding='utf-8') as f:\n",
    "    f.write(my_json)\n",
    "print(my_json)\n",
    "\n",
    "data = json.loads(my_json)\n",
    "#ambil atribut content aja\n",
    "txtReview = [data['content'] for data in data]\n",
    "\n",
    "#convert JSON ke String\n",
    "stringReview = \".\\n\".join(filter(None, txtReview))\n",
    "print(stringReview)\n",
    "\n",
    "with open('6-Ulasan-Aplikasi-Zalora.txt', 'w', encoding='utf-8') as f:\n",
    "    f.write(stringReview)"
   ]
  },
  {
   "cell_type": "markdown",
   "metadata": {},
   "source": [
    "TOKOPEDIA"
   ]
  },
  {
   "cell_type": "code",
   "execution_count": null,
   "metadata": {},
   "outputs": [],
   "source": [
    "result1, continuation_token = reviews(\n",
    "    'com.tokopedia.tkpd',\n",
    "    lang='en', # defaults to 'en'\n",
    "    country='us', # defaults to 'us'\n",
    "    sort=Sort.MOST_RELEVANT, # defaults to Sort.MOST_RELEVANT\n",
    "    count=1000, # defaults to 100\n",
    "    filter_score_with=None # defaults to None(means all score)\n",
    ")\n",
    "my_json=json.dumps(result1, indent=4, sort_keys=True, default=str)\n",
    "with open('7.Tokopedia-JSON.txt', 'w', encoding='utf-8') as f:\n",
    "    f.write(my_json)\n",
    "print(my_json)\n",
    "\n",
    "data = json.loads(my_json)\n",
    "#ambil atribut content aja\n",
    "txtReview = [data['content'] for data in data]\n",
    "\n",
    "#convert JSON ke String\n",
    "stringReview = \".\\n\".join(filter(None, txtReview))\n",
    "print(stringReview)\n",
    "\n",
    "with open('7-Ulasan-Aplikasi-Tokopedia.txt', 'w', encoding='utf-8') as f:\n",
    "    f.write(stringReview)"
   ]
  },
  {
   "cell_type": "markdown",
   "metadata": {},
   "source": [
    "WISH"
   ]
  },
  {
   "cell_type": "code",
   "execution_count": null,
   "metadata": {},
   "outputs": [],
   "source": [
    "result1, continuation_token = reviews(\n",
    "    'com.contextlogic.wish',\n",
    "    lang='en', # defaults to 'en'\n",
    "    country='us', # defaults to 'us'\n",
    "    sort=Sort.MOST_RELEVANT, # defaults to Sort.MOST_RELEVANT\n",
    "    count=1000, # defaults to 100\n",
    "    filter_score_with=None # defaults to None(means all score)\n",
    ")\n",
    "my_json=json.dumps(result1, indent=4, sort_keys=True, default=str)\n",
    "with open('8.Wish-JSON.txt', 'w', encoding='utf-8') as f:\n",
    "    f.write(my_json)\n",
    "print(my_json)\n",
    "\n",
    "data = json.loads(my_json)\n",
    "#ambil atribut content aja\n",
    "txtReview = [data['content'] for data in data]\n",
    "\n",
    "#convert JSON ke String\n",
    "stringReview = \".\\n\".join(filter(None, txtReview))\n",
    "print(stringReview)\n",
    "\n",
    "with open('8-Ulasan-Aplikasi-Wish.txt', 'w', encoding='utf-8') as f:\n",
    "    f.write(stringReview)"
   ]
  },
  {
   "cell_type": "markdown",
   "metadata": {},
   "source": [
    "CAROUSELL"
   ]
  },
  {
   "cell_type": "code",
   "execution_count": null,
   "metadata": {},
   "outputs": [],
   "source": [
    "result1, continuation_token = reviews(\n",
    "    'com.thecarousell.Carousell',\n",
    "    lang='en', # defaults to 'en'\n",
    "    country='us', # defaults to 'us'\n",
    "    sort=Sort.MOST_RELEVANT, # defaults to Sort.MOST_RELEVANT\n",
    "    count=1000, # defaults to 100\n",
    "    filter_score_with=None # defaults to None(means all score)\n",
    ")\n",
    "my_json=json.dumps(result1, indent=4, sort_keys=True, default=str)\n",
    "with open('9.Carousell-JSON.txt', 'w', encoding='utf-8') as f:\n",
    "    f.write(my_json)\n",
    "print(my_json)\n",
    "\n",
    "data = json.loads(my_json)\n",
    "#ambil atribut content aja\n",
    "txtReview = [data['content'] for data in data]\n",
    "\n",
    "#convert JSON ke String\n",
    "stringReview = \".\\n\".join(filter(None, txtReview))\n",
    "print(stringReview)\n",
    "\n",
    "with open('9-Ulasan-Aplikasi-Carousell.txt', 'w', encoding='utf-8') as f:\n",
    "    f.write(stringReview)"
   ]
  },
  {
   "cell_type": "markdown",
   "metadata": {},
   "source": [
    "BUKALAPAK"
   ]
  },
  {
   "cell_type": "code",
   "execution_count": null,
   "metadata": {},
   "outputs": [],
   "source": [
    "result1, continuation_token = reviews(\n",
    "    'com.bukalapak.android',\n",
    "    lang='en', # defaults to 'en'\n",
    "    country='us', # defaults to 'us'\n",
    "    sort=Sort.MOST_RELEVANT, # defaults to Sort.MOST_RELEVANT\n",
    "    count=1000, # defaults to 100\n",
    "    filter_score_with=None # defaults to None(means all score)\n",
    ")\n",
    "my_json=json.dumps(result1, indent=4, sort_keys=True, default=str)\n",
    "with open('10.BukaLapak-JSON.txt', 'w', encoding='utf-8') as f:\n",
    "    f.write(my_json)\n",
    "print(my_json)\n",
    "\n",
    "data = json.loads(my_json)\n",
    "#ambil atribut content aja\n",
    "txtReview = [data['content'] for data in data]\n",
    "\n",
    "#convert JSON ke String\n",
    "stringReview = \".\\n\".join(filter(None, txtReview))\n",
    "print(stringReview)\n",
    "\n",
    "with open('10-Ulasan-Aplikasi-BukaLapak.txt', 'w', encoding='utf-8') as f:\n",
    "    f.write(stringReview)"
   ]
  },
  {
   "cell_type": "markdown",
   "metadata": {},
   "source": [
    "result9 = reviews_all(\n",
    "    'com.finazzi.distquake',\n",
    "    sleep_milliseconds=1, # defaults to 0\n",
    "    lang='en', # defaults to 'en'\n",
    "    country='us', # defaults to 'us'\n",
    "    sort=Sort.MOST_RELEVANT, # defaults to Sort.MOST_RELEVANT\n",
    "    filter_score_with=None # defaults to None(means all score)\n",
    ")\n",
    "\n",
    "x9=json.dumps(result9, indent=4, sort_keys=True, default=str)\n",
    "\n",
    "print(x9)\n",
    "with open('x9.txt', 'w', encoding='utf-8') as f:\n",
    "    f.write(x9)\n",
    "    \n",
    "data9 = json.loads(x9)\n",
    "#ambil atribut content aja\n",
    "txtReview9 = [data9['content'] for data9 in data9]\n",
    "\n",
    "#convert JSON ke String\n",
    "stringReview9 = \".\\n\".join(filter(None, txtReview9))\n",
    "print(stringReview9)\n",
    "\n",
    "with open('9-Ulasan-Aplikasi-Earthquake Network-Realtime alerts.txt', 'w', encoding='utf-8') as f:\n",
    "    f.write(stringReview9)"
   ]
  }
 ],
 "metadata": {
  "kernelspec": {
   "display_name": "Python 3",
   "language": "python",
   "name": "python3"
  },
  "language_info": {
   "codemirror_mode": {
    "name": "ipython",
    "version": 3
   },
   "file_extension": ".py",
   "mimetype": "text/x-python",
   "name": "python",
   "nbconvert_exporter": "python",
   "pygments_lexer": "ipython3",
   "version": "3.6.4"
  }
 },
 "nbformat": 4,
 "nbformat_minor": 2
}
